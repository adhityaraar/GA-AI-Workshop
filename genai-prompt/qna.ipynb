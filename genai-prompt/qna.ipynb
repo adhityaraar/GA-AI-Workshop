{
 "cells": [
  {
   "cell_type": "markdown",
   "metadata": {},
   "source": [
    "## Run Ollama in Local"
   ]
  },
  {
   "cell_type": "code",
   "execution_count": null,
   "metadata": {},
   "outputs": [],
   "source": [
    "!pip install pypdf==3.12.2\n",
    "!pip install ollama"
   ]
  },
  {
   "cell_type": "code",
   "execution_count": 1,
   "metadata": {},
   "outputs": [],
   "source": [
    "import ollama\n",
    "import fitz"
   ]
  },
  {
   "cell_type": "markdown",
   "metadata": {},
   "source": [
    "### Talk to GenAI"
   ]
  },
  {
   "cell_type": "code",
   "execution_count": 2,
   "metadata": {},
   "outputs": [],
   "source": [
    "# model = 'llama2' #7 billion\n",
    "# model = 'llama3.2' #3 billion\n",
    "# model = 'llama3.1:70b' #70 billion\n",
    "model = 'llama3.1:8b' #8 billion"
   ]
  },
  {
   "cell_type": "code",
   "execution_count": 3,
   "metadata": {},
   "outputs": [
    {
     "name": "stdout",
     "output_type": "stream",
     "text": [
      "Langit terlihat biru karena cahaya matahari menyebar dalam gelombang cahaya, yang kemudian dipancarkan ke segala penjuru dengan warna putih. Kemudian, cahaya tersebut mencapai atmosfer Bumi. Di sana, cahaya digabung oleh molekul gas (terutama oksigen dan nitrogen) dan menghasilkan sinar biru."
     ]
    }
   ],
   "source": [
    "messages = [\n",
    "    {\n",
    "        'role': 'user',\n",
    "        'content': 'Kenapa langit berwarna biru?'\n",
    "    }\n",
    "]\n",
    "\n",
    "response_stream = ollama.chat(model=model, messages=messages, stream=True)\n",
    "\n",
    "for chunk in response_stream:\n",
    "    print(chunk['message']['content'], end='', flush=True)"
   ]
  },
  {
   "cell_type": "code",
   "execution_count": null,
   "metadata": {},
   "outputs": [],
   "source": []
  },
  {
   "cell_type": "markdown",
   "metadata": {},
   "source": [
    "### Talk with your document!"
   ]
  },
  {
   "cell_type": "code",
   "execution_count": 30,
   "metadata": {},
   "outputs": [],
   "source": [
    "def process_pdf(pdf_path):\n",
    "\n",
    "    try:\n",
    "        # Load PDF silently\n",
    "        doc = fitz.open(pdf_path)\n",
    "        text = \"\"\n",
    "        for page in doc:\n",
    "            text += page.get_text()\n",
    "        doc.close()\n",
    "        \n",
    "        return text  # Return the extracted text instead of creating a document index\n",
    "\n",
    "    except Exception as e:\n",
    "        print(f\"Error processing PDF: {str(e)}\")\n",
    "        return None\n",
    "\n",
    "def get_clean_response(model, query):\n",
    "    messages = [\n",
    "        {\n",
    "            'role': 'user',\n",
    "            'content': query\n",
    "        }\n",
    "    ]\n",
    "    \n",
    "    response_stream = ollama.chat(model=model, messages=messages, stream=True)\n",
    "    \n",
    "    # Stream the response\n",
    "    for chunk in response_stream:\n",
    "        if 'message' in chunk and 'content' in chunk['message']:\n",
    "            yield chunk['message']['content']  # Yield each chunk of the response\n"
   ]
  },
  {
   "cell_type": "code",
   "execution_count": 31,
   "metadata": {},
   "outputs": [],
   "source": [
    "# pdf_path = \"/Users/adhityaraar/Documents/IBM/project/RAG-OS/data/Simmons_Bank.pdf\"\n",
    "pdf_path = \"/Users/adhityaraar/Documents/GitHub/GA-AI-Workshop/data/Peraturan_Perusahaan.pdf\"\n",
    "extracted_text = process_pdf(pdf_path)"
   ]
  },
  {
   "cell_type": "code",
   "execution_count": 27,
   "metadata": {},
   "outputs": [],
   "source": [
    "# model = 'llama2' #7 billion\n",
    "# model = 'llama3.2' #3 billion\n",
    "# model = 'llama3.1:70b' #70 billion\n",
    "model = 'llama3.1:8b' #8 billion"
   ]
  },
  {
   "cell_type": "code",
   "execution_count": 32,
   "metadata": {},
   "outputs": [
    {
     "name": "stdout",
     "output_type": "stream",
     "text": [
      "Usia pensiun karyawan adalah 60 tahun."
     ]
    }
   ],
   "source": [
    "# user_question = \"Tolong jelaskan apa yang di maksud dalam dokumen tersebut\"\n",
    "user_question = \"Berapa usia pensiun karyawan?\"\n",
    "\n",
    "if extracted_text:\n",
    "    query = f\"{user_question}: {extracted_text}\"  # Limit for context\n",
    "    model = 'llama3.2'\n",
    "\n",
    "    # Print the response as it streams\n",
    "    for response_chunk in get_clean_response(model, query):\n",
    "        print(response_chunk, end='', flush=True)"
   ]
  },
  {
   "cell_type": "code",
   "execution_count": null,
   "metadata": {},
   "outputs": [],
   "source": []
  },
  {
   "cell_type": "markdown",
   "metadata": {},
   "source": [
    "### Talk with your document with Prompt!"
   ]
  },
  {
   "cell_type": "code",
   "execution_count": null,
   "metadata": {},
   "outputs": [],
   "source": [
    "def get_clean_response(model, context, query):\n",
    "    # Define the prompt template\n",
    "    prompt_template = \"\"\" \n",
    "        Anda adalah asisten yang membantu user dalam menjawab pertanyaan terkait suatu dokumen. Tugas utama Anda adalah menganalisis pertanyaan dari pengguna dan hasil query yang telah disediakan, kemudian memberikan jawaban yang jelas, tepat, dan bermanfaat.\n",
    "\n",
    "        Pertanyaan: {query}\n",
    "        Konteks: {context}\n",
    "\n",
    "        Instruksi bagaimana cara menjawab:\n",
    "        1. Pastikan jawaban Anda menyertakan penjelasan yang sesuai dengan konteks. \n",
    "        2. Jika data kosong, katakan bahwa Anda tidak dapat mendapatkan datanya sehingga pertanyaan tidak dapat dijawab dan coba untuk bertanya lebih spesifik terkait data transaksi.\n",
    "        3. Hasil jawaban yang disediakan berisi data penting yang perlu dianalisis untuk memberikan jawaban yang akurat. Jika pertanyaan menyangkut jumlah finansial atau uang, formatkan angka tersebut dalam format mata uang Rupiah dengan desimal yang sesuai.\n",
    "        4. Jika Anda tidak dapat memberikan jawaban, jawab dengan sopan bahwa Anda tidak dapat menjawabnya.\n",
    "        5. Jika jawaban yang diberikan menggunakan huruf kapital semua, ubah formatnya mengikuti kaidah bahasa Indonesia yang benar.\n",
    "        6. Jawaban harus menggunakan Bahasa Indonesia yang baik dan benar, hindari penggunaan tanda petik dan hindari penggunaan tanda baris baru.\n",
    "\n",
    "        Jawaban: \n",
    "    \"\"\"\n",
    "    # Insert context and query into the prompt\n",
    "    prompt = prompt_template.format(context=context, query=query)\n",
    "\n",
    "    # Pass prompt into Ollama chat function\n",
    "    messages = [\n",
    "        {\n",
    "            'role': 'user',\n",
    "            'content': prompt\n",
    "        }\n",
    "    ]\n",
    "    \n",
    "    response_stream = ollama.chat(model=model, messages=messages, stream=True)\n",
    "    \n",
    "    # Stream the response\n",
    "    for chunk in response_stream:\n",
    "        if 'message' in chunk and 'content' in chunk['message']:\n",
    "            yield chunk['message']['content']  # Yield each chunk of the response"
   ]
  },
  {
   "cell_type": "code",
   "execution_count": null,
   "metadata": {},
   "outputs": [],
   "source": [
    "pdf_path = \"/Users/adhityaraar/Documents/GitHub/GA-AI-Workshop/data/Peraturan_Perusahaan.pdf\"\n",
    "extracted_text = process_pdf(pdf_path)"
   ]
  },
  {
   "cell_type": "code",
   "execution_count": 34,
   "metadata": {},
   "outputs": [
    {
     "name": "stdout",
     "output_type": "stream",
     "text": [
      "Berdasarkan konteks peraturan perusahaan yang disediakan, jawaban untuk pertanyaan \"Berapa usia pensiun karyawan?\" adalah:\n",
      "\n",
      "\"Usia pensiun karyawan adalah 60 tahun.\""
     ]
    }
   ],
   "source": [
    "# user_question = \"Pada pukul berapa karyawan mulai bekerja?\"\n",
    "user_question = \"Berapa usia pensiun karyawan?\"\n",
    "# user_question = \"Berapa lama masa percobaan karyawan baru?\"\n",
    "\n",
    "# user_question = \"Kapan gaji akan dibayarkan jika tanggal 25 jatuh pada hari Sabtu?\"\n",
    "# user_question = \"Apa yang harus dilakukan karyawan jika ingin menggunakan hak cuti tahunannya?\"\n",
    "# user_question = \"pakaian apa yang digunakan pada hari Selasa?\"\n",
    "\n",
    "# user_question = \"Apa saja tunjangan yang dapat diterima karyawan yang telah bekerja minimal 12 bulan di perusahaan, dan bagaimana aturan terkait Tunjangan Hari Raya (THR) untuk karyawan yang berhenti bekerja paling lama 30 hari sebelum hari raya Idul Fitri?\"\n",
    "# user_question = \"Bagaimana perusahaan mengevaluasi performa karyawan baru selama masa percobaan, dan siapa yang terlibat dalam proses pengawasan dan penilaian?\"\n",
    "# user_question = \"Bicarakan mengenai jaminan sosial karyawan yang diberikan oleh perusahaan, termasuk hak karyawan yang meninggal dan hak keluarga karyawan yang meninggal dalam hal jaminan sosial.\"\n",
    "# user_question = \"apa itu ayam?\"\n",
    "\n",
    "if extracted_text:\n",
    "    query = f\"{user_question}\"  # Limit for context\n",
    "\n",
    "    # Print the response as it streams\n",
    "    for response_chunk in get_clean_response(model, extracted_text, query):\n",
    "        print(response_chunk, end='', flush=True)"
   ]
  },
  {
   "cell_type": "code",
   "execution_count": null,
   "metadata": {},
   "outputs": [],
   "source": []
  }
 ],
 "metadata": {
  "kernelspec": {
   "display_name": "ga-rag",
   "language": "python",
   "name": "python3"
  },
  "language_info": {
   "codemirror_mode": {
    "name": "ipython",
    "version": 3
   },
   "file_extension": ".py",
   "mimetype": "text/x-python",
   "name": "python",
   "nbconvert_exporter": "python",
   "pygments_lexer": "ipython3",
   "version": "3.10.15"
  }
 },
 "nbformat": 4,
 "nbformat_minor": 2
}
